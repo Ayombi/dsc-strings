{
  "cells": [
    {
      "cell_type": "markdown",
      "metadata": {
        "id": "view-in-github",
        "colab_type": "text"
      },
      "source": [
        "<a href=\"https://colab.research.google.com/github/Ayombi/dsc-strings/blob/master/Phase_1_Code_Challenge_Notebook.ipynb\" target=\"_parent\"><img src=\"https://colab.research.google.com/assets/colab-badge.svg\" alt=\"Open In Colab\"/></a>"
      ]
    },
    {
      "cell_type": "markdown",
      "metadata": {
        "deletable": false,
        "editable": false,
        "nbgrader": {
          "cell_type": "markdown",
          "checksum": "29e3f9ed342e3a98e47148b257d1d38b",
          "grade": false,
          "grade_id": "cell-1dc8c072d516f820",
          "locked": true,
          "schema_version": 3,
          "solution": false,
          "task": false
        },
        "id": "NJ3LgjPq_kQ8"
      },
      "source": [
        "# Phase 1 Code Challenge\n",
        "This code challenge is designed to test your understanding of the Phase 1 material. It covers:\n",
        "\n",
        "- Pandas\n",
        "- Data Visualization\n",
        "- Exploring Statistical Data\n",
        "- Python Data Structures\n",
        "\n",
        "*Read the instructions carefully.* Your code will need to meet detailed specifications to pass automated tests.\n",
        "\n",
        "## Code Tests\n",
        "\n",
        "We have provided some code tests for you to run to check that your work meets the item specifications. Passing these tests does not necessarily mean that you have gotten the item correct - there are additional hidden tests. However, if any of the tests do not pass, this tells you that your code is incorrect and needs changes to meet the specification. To determine what the issue is, read the comments in the code test cells, the error message you receive, and the item instructions."
      ]
    },
    {
      "cell_type": "markdown",
      "metadata": {
        "deletable": false,
        "editable": false,
        "nbgrader": {
          "cell_type": "markdown",
          "checksum": "70716b95dc5bccd49998cd5a7d3da369",
          "grade": false,
          "grade_id": "cell-9cdee0770b4e45d9",
          "locked": true,
          "schema_version": 3,
          "solution": false,
          "task": false
        },
        "id": "wH3P-T0J_kRA"
      },
      "source": [
        "---\n",
        "## Part 1: Pandas [Suggested Time: 15 minutes]\n",
        "---\n",
        "In this part, you will preprocess a dataset from the video game [FIFA19](https://www.kaggle.com/karangadiya/fifa19), which contains data from the players' real-life careers."
      ]
    },
    {
      "cell_type": "code",
      "execution_count": 1,
      "metadata": {
        "deletable": false,
        "editable": false,
        "nbgrader": {
          "cell_type": "code",
          "checksum": "53062e369476dd6485a0154dbd9b76fb",
          "grade": false,
          "grade_id": "cell-6b5542e3f39ef221",
          "locked": true,
          "schema_version": 3,
          "solution": false,
          "task": false
        },
        "id": "gXPupiyn_kRC"
      },
      "outputs": [],
      "source": [
        "# Run this cell\n",
        "\n",
        "import pandas as pd\n",
        "import numpy as np\n",
        "from numbers import Number\n",
        "import warnings\n",
        "warnings.filterwarnings('ignore')"
      ]
    },
    {
      "cell_type": "markdown",
      "metadata": {
        "deletable": false,
        "editable": false,
        "nbgrader": {
          "cell_type": "markdown",
          "checksum": "141011a44dac97e104325c7e76e90c86",
          "grade": false,
          "grade_id": "cell-b9b25e040991b1e6",
          "locked": true,
          "schema_version": 3,
          "solution": false,
          "task": false
        },
        "id": "u_FKfdm3_kRE"
      },
      "source": [
        "### 1.1) Read `fifa.csv` into a pandas DataFrame named `df`\n",
        "\n",
        "Use pandas to create a new DataFrame, called `df`, containing the data from the dataset in the file `fifa.csv` in the folder containing this notebook.\n",
        "\n",
        "Hint: Use the string `'./fifa.csv'` as the file reference."
      ]
    },
    {
      "cell_type": "markdown",
      "metadata": {
        "deletable": false,
        "editable": false,
        "nbgrader": {
          "cell_type": "markdown",
          "checksum": "bb6f838080f5124f5dfc3a02bac8034a",
          "grade": false,
          "grade_id": "cell-18fbca9dcea2ebbd",
          "locked": true,
          "schema_version": 3,
          "solution": false,
          "task": false
        },
        "scrolled": true,
        "id": "bRTWMkQx_kRF"
      },
      "source": [
        "**Starter Code**\n",
        "\n",
        "    df = pd.read_csv('/content/fifa (2).csv')"
      ]
    },
    {
      "cell_type": "code",
      "execution_count": 2,
      "metadata": {
        "deletable": false,
        "nbgrader": {
          "cell_type": "code",
          "checksum": "3ab40d0eaf6bef222b99d7c6ec9937e6",
          "grade": false,
          "grade_id": "cell-cf9f259ed8f4b909",
          "locked": false,
          "schema_version": 3,
          "solution": true,
          "task": false
        },
        "id": "Izef4iLV_kRF"
      },
      "outputs": [],
      "source": [
        "# YOUR CODE HERE\n",
        "df = pd.read_csv('/content/fifa (2).csv')"
      ]
    },
    {
      "cell_type": "code",
      "execution_count": 3,
      "metadata": {
        "deletable": false,
        "editable": false,
        "nbgrader": {
          "cell_type": "code",
          "checksum": "cacece4903e2605ddade6ac7f59673d1",
          "grade": true,
          "grade_id": "cell-40c6c91273593f1f",
          "locked": true,
          "points": 1,
          "schema_version": 3,
          "solution": false,
          "task": false
        },
        "id": "dHBdczaX_kRG"
      },
      "outputs": [],
      "source": [
        "# This test confirms that you have created a DataFrame named df\n",
        "\n",
        "assert type(df) == pd.DataFrame\n"
      ]
    },
    {
      "cell_type": "code",
      "source": [
        "df.info()"
      ],
      "metadata": {
        "id": "q94GQaFHDaM1",
        "outputId": "03e7c41e-0657-415c-f706-cab8e2512dd4",
        "colab": {
          "base_uri": "https://localhost:8080/"
        }
      },
      "execution_count": 4,
      "outputs": [
        {
          "output_type": "stream",
          "name": "stdout",
          "text": [
            "<class 'pandas.core.frame.DataFrame'>\n",
            "RangeIndex: 18207 entries, 0 to 18206\n",
            "Data columns (total 88 columns):\n",
            " #   Column                    Non-Null Count  Dtype  \n",
            "---  ------                    --------------  -----  \n",
            " 0   ID                        18207 non-null  int64  \n",
            " 1   Name                      18207 non-null  object \n",
            " 2   Age                       18207 non-null  int64  \n",
            " 3   Photo                     18207 non-null  object \n",
            " 4   Nationality               18207 non-null  object \n",
            " 5   Flag                      18207 non-null  object \n",
            " 6   Overall                   18207 non-null  int64  \n",
            " 7   Potential                 18207 non-null  int64  \n",
            " 8   Club                      17966 non-null  object \n",
            " 9   Club Logo                 18207 non-null  object \n",
            " 10  Value                     18207 non-null  object \n",
            " 11  Wage                      18207 non-null  object \n",
            " 12  Special                   18207 non-null  int64  \n",
            " 13  Preferred Foot            18159 non-null  object \n",
            " 14  International Reputation  18159 non-null  float64\n",
            " 15  Weak Foot                 18159 non-null  float64\n",
            " 16  Skill Moves               18159 non-null  float64\n",
            " 17  Work Rate                 18159 non-null  object \n",
            " 18  Body Type                 18159 non-null  object \n",
            " 19  Real Face                 18159 non-null  object \n",
            " 20  Position                  18147 non-null  object \n",
            " 21  Jersey Number             18147 non-null  float64\n",
            " 22  Joined                    16654 non-null  object \n",
            " 23  Loaned From               1264 non-null   object \n",
            " 24  Contract Valid Until      17918 non-null  object \n",
            " 25  Height                    18159 non-null  object \n",
            " 26  Weight                    18159 non-null  object \n",
            " 27  LS                        16122 non-null  object \n",
            " 28  ST                        16122 non-null  object \n",
            " 29  RS                        16122 non-null  object \n",
            " 30  LW                        16122 non-null  object \n",
            " 31  LF                        16122 non-null  object \n",
            " 32  CF                        16122 non-null  object \n",
            " 33  RF                        16122 non-null  object \n",
            " 34  RW                        16122 non-null  object \n",
            " 35  LAM                       16122 non-null  object \n",
            " 36  CAM                       16122 non-null  object \n",
            " 37  RAM                       16122 non-null  object \n",
            " 38  LM                        16122 non-null  object \n",
            " 39  LCM                       16122 non-null  object \n",
            " 40  CM                        16122 non-null  object \n",
            " 41  RCM                       16122 non-null  object \n",
            " 42  RM                        16122 non-null  object \n",
            " 43  LWB                       16122 non-null  object \n",
            " 44  LDM                       16122 non-null  object \n",
            " 45  CDM                       16122 non-null  object \n",
            " 46  RDM                       16122 non-null  object \n",
            " 47  RWB                       16122 non-null  object \n",
            " 48  LB                        16122 non-null  object \n",
            " 49  LCB                       16122 non-null  object \n",
            " 50  CB                        16122 non-null  object \n",
            " 51  RCB                       16122 non-null  object \n",
            " 52  RB                        16122 non-null  object \n",
            " 53  Crossing                  18159 non-null  float64\n",
            " 54  Finishing                 18159 non-null  float64\n",
            " 55  HeadingAccuracy           18159 non-null  float64\n",
            " 56  ShortPassing              18159 non-null  float64\n",
            " 57  Volleys                   18159 non-null  float64\n",
            " 58  Dribbling                 18159 non-null  float64\n",
            " 59  Curve                     18159 non-null  float64\n",
            " 60  FKAccuracy                18159 non-null  float64\n",
            " 61  LongPassing               18159 non-null  float64\n",
            " 62  BallControl               18159 non-null  float64\n",
            " 63  Acceleration              18159 non-null  float64\n",
            " 64  SprintSpeed               18159 non-null  float64\n",
            " 65  Agility                   18159 non-null  float64\n",
            " 66  Reactions                 18159 non-null  float64\n",
            " 67  Balance                   18159 non-null  float64\n",
            " 68  ShotPower                 18159 non-null  float64\n",
            " 69  Jumping                   18159 non-null  float64\n",
            " 70  Stamina                   18159 non-null  float64\n",
            " 71  Strength                  18159 non-null  float64\n",
            " 72  LongShots                 18159 non-null  float64\n",
            " 73  Aggression                18159 non-null  float64\n",
            " 74  Interceptions             18159 non-null  float64\n",
            " 75  Positioning               18159 non-null  float64\n",
            " 76  Vision                    18159 non-null  float64\n",
            " 77  Penalties                 18159 non-null  float64\n",
            " 78  Composure                 18159 non-null  float64\n",
            " 79  Marking                   18159 non-null  float64\n",
            " 80  StandingTackle            18159 non-null  float64\n",
            " 81  SlidingTackle             18159 non-null  float64\n",
            " 82  GKDiving                  18159 non-null  float64\n",
            " 83  GKHandling                18159 non-null  float64\n",
            " 84  GKKicking                 18159 non-null  float64\n",
            " 85  GKPositioning             18159 non-null  float64\n",
            " 86  GKReflexes                18159 non-null  float64\n",
            " 87  Release Clause            16643 non-null  float64\n",
            "dtypes: float64(39), int64(5), object(44)\n",
            "memory usage: 12.2+ MB\n"
          ]
        }
      ]
    },
    {
      "cell_type": "markdown",
      "metadata": {
        "deletable": false,
        "editable": false,
        "nbgrader": {
          "cell_type": "markdown",
          "checksum": "0b9b553dfd5630ed9866435ee9a9fced",
          "grade": false,
          "grade_id": "cell-42ef866849a4d833",
          "locked": true,
          "schema_version": 3,
          "solution": false,
          "task": false
        },
        "id": "5fci2ACb_kRH"
      },
      "source": [
        "### 1.2) Convert the `'Release Clause'` values from Euros to dollars\n",
        "\n",
        "The `'Release Clause'` variable contains prices denominated in Euros. Use the exchange rate `1 Euro = 1.2 Dollars` to convert the prices to dollars."
      ]
    },
    {
      "cell_type": "code",
      "execution_count": 6,
      "metadata": {
        "deletable": false,
        "nbgrader": {
          "cell_type": "code",
          "checksum": "c5534ca8a0de72206f176b1243d1e113",
          "grade": false,
          "grade_id": "cell-7dea27dfb0840749",
          "locked": false,
          "schema_version": 3,
          "solution": true,
          "task": false
        },
        "colab": {
          "base_uri": "https://localhost:8080/"
        },
        "id": "TWeO6JY0_kRI",
        "outputId": "9825566f-ea1a-4688-ed0c-1474ad7ac6c0"
      },
      "outputs": [
        {
          "output_type": "execute_result",
          "data": {
            "text/plain": [
              "0    326160.0\n",
              "1    183024.0\n",
              "2    328464.0\n",
              "3    199584.0\n",
              "4    282816.0\n",
              "Name: Release Clause, dtype: float64"
            ]
          },
          "metadata": {},
          "execution_count": 6
        }
      ],
      "source": [
        "# Define the exchange rate\n",
        "euro_to_dollar_exchange_rate = 1.2\n",
        "# Convert the 'Release Clause' values from Euros to dollars\n",
        "df['Release Clause'] = df['Release Clause'] * euro_to_dollar_exchange_rate\n",
        "df['Release Clause'].head()"
      ]
    },
    {
      "cell_type": "code",
      "execution_count": null,
      "metadata": {
        "deletable": false,
        "editable": false,
        "nbgrader": {
          "cell_type": "code",
          "checksum": "a24d00d465ef74b4cd69bfdeb27f6a66",
          "grade": true,
          "grade_id": "cell-722ee65f73aaf88b",
          "locked": true,
          "points": 1,
          "schema_version": 3,
          "solution": false,
          "task": false
        },
        "id": "mfE7c3_6_kRI"
      },
      "outputs": [],
      "source": [
        "# Ignore this cell\n"
      ]
    },
    {
      "cell_type": "markdown",
      "metadata": {
        "deletable": false,
        "editable": false,
        "nbgrader": {
          "cell_type": "markdown",
          "checksum": "e3482602ba928f85714f1e479f24dab5",
          "grade": false,
          "grade_id": "cell-e9a1540ffff85098",
          "locked": true,
          "schema_version": 3,
          "solution": false,
          "task": false
        },
        "id": "9wmIWsRq_kRJ"
      },
      "source": [
        "### 1.3) Drop rows from `df` with missing values for the `'Release Clause'` feature.\n",
        "    \n",
        "Make sure that `df` remains the name of the dataset with the dropped rows."
      ]
    },
    {
      "cell_type": "code",
      "execution_count": 7,
      "metadata": {
        "deletable": false,
        "nbgrader": {
          "cell_type": "code",
          "checksum": "07d3910049c82d0ccb1cee469696e53f",
          "grade": false,
          "grade_id": "cell-389eaeac18624fad",
          "locked": false,
          "schema_version": 3,
          "solution": true,
          "task": false
        },
        "id": "SCFZN4jY_kRK"
      },
      "outputs": [],
      "source": [
        "# YOUR CODE HERE\n",
        "df = df.dropna(subset=['Release Clause'])"
      ]
    },
    {
      "cell_type": "code",
      "execution_count": 8,
      "metadata": {
        "deletable": false,
        "editable": false,
        "nbgrader": {
          "cell_type": "code",
          "checksum": "5b833f8f9550a85640325fb8fbde98b3",
          "grade": true,
          "grade_id": "cell-d9fc548551ee3f7e",
          "locked": true,
          "points": 1,
          "schema_version": 3,
          "solution": false,
          "task": false
        },
        "id": "v3cvn7UX_kRK"
      },
      "outputs": [],
      "source": [
        "# This test confirms that your dataset has the correct number of observations after dropping\n",
        "\n",
        "assert df['Release Clause'].shape[0] == 16643\n"
      ]
    },
    {
      "cell_type": "code",
      "source": [
        "df.info()"
      ],
      "metadata": {
        "id": "IZEpVZWNF88e",
        "outputId": "66f06867-a8d1-4b51-c67b-98aae118c0ec",
        "colab": {
          "base_uri": "https://localhost:8080/"
        }
      },
      "execution_count": 10,
      "outputs": [
        {
          "output_type": "stream",
          "name": "stdout",
          "text": [
            "<class 'pandas.core.frame.DataFrame'>\n",
            "Int64Index: 16643 entries, 0 to 18206\n",
            "Data columns (total 88 columns):\n",
            " #   Column                    Non-Null Count  Dtype  \n",
            "---  ------                    --------------  -----  \n",
            " 0   ID                        16643 non-null  int64  \n",
            " 1   Name                      16643 non-null  object \n",
            " 2   Age                       16643 non-null  int64  \n",
            " 3   Photo                     16643 non-null  object \n",
            " 4   Nationality               16643 non-null  object \n",
            " 5   Flag                      16643 non-null  object \n",
            " 6   Overall                   16643 non-null  int64  \n",
            " 7   Potential                 16643 non-null  int64  \n",
            " 8   Club                      16643 non-null  object \n",
            " 9   Club Logo                 16643 non-null  object \n",
            " 10  Value                     16643 non-null  object \n",
            " 11  Wage                      16643 non-null  object \n",
            " 12  Special                   16643 non-null  int64  \n",
            " 13  Preferred Foot            16643 non-null  object \n",
            " 14  International Reputation  16643 non-null  float64\n",
            " 15  Weak Foot                 16643 non-null  float64\n",
            " 16  Skill Moves               16643 non-null  float64\n",
            " 17  Work Rate                 16643 non-null  object \n",
            " 18  Body Type                 16643 non-null  object \n",
            " 19  Real Face                 16643 non-null  object \n",
            " 20  Position                  16643 non-null  object \n",
            " 21  Jersey Number             16643 non-null  float64\n",
            " 22  Joined                    16643 non-null  object \n",
            " 23  Loaned From               0 non-null      object \n",
            " 24  Contract Valid Until      16643 non-null  object \n",
            " 25  Height                    16643 non-null  object \n",
            " 26  Weight                    16643 non-null  object \n",
            " 27  LS                        14743 non-null  object \n",
            " 28  ST                        14743 non-null  object \n",
            " 29  RS                        14743 non-null  object \n",
            " 30  LW                        14743 non-null  object \n",
            " 31  LF                        14743 non-null  object \n",
            " 32  CF                        14743 non-null  object \n",
            " 33  RF                        14743 non-null  object \n",
            " 34  RW                        14743 non-null  object \n",
            " 35  LAM                       14743 non-null  object \n",
            " 36  CAM                       14743 non-null  object \n",
            " 37  RAM                       14743 non-null  object \n",
            " 38  LM                        14743 non-null  object \n",
            " 39  LCM                       14743 non-null  object \n",
            " 40  CM                        14743 non-null  object \n",
            " 41  RCM                       14743 non-null  object \n",
            " 42  RM                        14743 non-null  object \n",
            " 43  LWB                       14743 non-null  object \n",
            " 44  LDM                       14743 non-null  object \n",
            " 45  CDM                       14743 non-null  object \n",
            " 46  RDM                       14743 non-null  object \n",
            " 47  RWB                       14743 non-null  object \n",
            " 48  LB                        14743 non-null  object \n",
            " 49  LCB                       14743 non-null  object \n",
            " 50  CB                        14743 non-null  object \n",
            " 51  RCB                       14743 non-null  object \n",
            " 52  RB                        14743 non-null  object \n",
            " 53  Crossing                  16643 non-null  float64\n",
            " 54  Finishing                 16643 non-null  float64\n",
            " 55  HeadingAccuracy           16643 non-null  float64\n",
            " 56  ShortPassing              16643 non-null  float64\n",
            " 57  Volleys                   16643 non-null  float64\n",
            " 58  Dribbling                 16643 non-null  float64\n",
            " 59  Curve                     16643 non-null  float64\n",
            " 60  FKAccuracy                16643 non-null  float64\n",
            " 61  LongPassing               16643 non-null  float64\n",
            " 62  BallControl               16643 non-null  float64\n",
            " 63  Acceleration              16643 non-null  float64\n",
            " 64  SprintSpeed               16643 non-null  float64\n",
            " 65  Agility                   16643 non-null  float64\n",
            " 66  Reactions                 16643 non-null  float64\n",
            " 67  Balance                   16643 non-null  float64\n",
            " 68  ShotPower                 16643 non-null  float64\n",
            " 69  Jumping                   16643 non-null  float64\n",
            " 70  Stamina                   16643 non-null  float64\n",
            " 71  Strength                  16643 non-null  float64\n",
            " 72  LongShots                 16643 non-null  float64\n",
            " 73  Aggression                16643 non-null  float64\n",
            " 74  Interceptions             16643 non-null  float64\n",
            " 75  Positioning               16643 non-null  float64\n",
            " 76  Vision                    16643 non-null  float64\n",
            " 77  Penalties                 16643 non-null  float64\n",
            " 78  Composure                 16643 non-null  float64\n",
            " 79  Marking                   16643 non-null  float64\n",
            " 80  StandingTackle            16643 non-null  float64\n",
            " 81  SlidingTackle             16643 non-null  float64\n",
            " 82  GKDiving                  16643 non-null  float64\n",
            " 83  GKHandling                16643 non-null  float64\n",
            " 84  GKKicking                 16643 non-null  float64\n",
            " 85  GKPositioning             16643 non-null  float64\n",
            " 86  GKReflexes                16643 non-null  float64\n",
            " 87  Release Clause            16643 non-null  float64\n",
            "dtypes: float64(39), int64(5), object(44)\n",
            "memory usage: 11.3+ MB\n"
          ]
        }
      ]
    },
    {
      "cell_type": "markdown",
      "metadata": {
        "deletable": false,
        "editable": false,
        "nbgrader": {
          "cell_type": "markdown",
          "checksum": "f55cb851c3aeac1e96b9c91bcf87080c",
          "grade": false,
          "grade_id": "cell-be6ad3929cc953e5",
          "locked": true,
          "schema_version": 3,
          "solution": false,
          "task": false
        },
        "id": "8mJ8dw8G_kRL"
      },
      "source": [
        "### 1.4) Create a list `top_10_countries` containing the names of the 10 countries with the most players (using the `'Nationality'` column).\n",
        "\n",
        "Hint: Your answer should include England, Germany, Spain, France, and Argentina"
      ]
    },
    {
      "cell_type": "markdown",
      "metadata": {
        "deletable": false,
        "editable": false,
        "nbgrader": {
          "cell_type": "markdown",
          "checksum": "2371eeae60572044f0e60301bcb5ed65",
          "grade": false,
          "grade_id": "cell-a33121d22f5d8535",
          "locked": true,
          "schema_version": 3,
          "solution": false,
          "task": false
        },
        "id": "HXjkWbdM_kRL"
      },
      "source": [
        "**Starter Code**\n",
        "\n",
        "    top_10_countries ="
      ]
    },
    {
      "cell_type": "code",
      "execution_count": 18,
      "metadata": {
        "deletable": false,
        "nbgrader": {
          "cell_type": "code",
          "checksum": "41182dd319c608fbc790c2959b04d84c",
          "grade": false,
          "grade_id": "cell-f2a7bdcc98878531",
          "locked": false,
          "schema_version": 3,
          "solution": true,
          "task": false
        },
        "colab": {
          "base_uri": "https://localhost:8080/"
        },
        "id": "tRQBMJHK_kRL",
        "outputId": "401f99db-e468-4fe1-96e6-da589319d321"
      },
      "outputs": [
        {
          "output_type": "stream",
          "name": "stdout",
          "text": [
            "['England', 'Germany', 'Spain', 'France', 'Argentina', 'Brazil', 'Italy', 'Colombia', 'Japan', 'Netherlands']\n",
            "['England', 'Germany', 'Spain', 'France', 'Argentina', 'Brazil', 'Italy', 'Colombia', 'Japan', 'Netherlands']\n"
          ]
        }
      ],
      "source": [
        "# YOUR CODE HERE\n",
        "top_10_countries = df['Nationality'].value_counts().head(10).index.tolist()\n",
        "print(top_10_countries)"
      ]
    },
    {
      "cell_type": "code",
      "execution_count": 19,
      "metadata": {
        "deletable": false,
        "editable": false,
        "nbgrader": {
          "cell_type": "code",
          "checksum": "32fd183a55844499cf48eec9eaaea810",
          "grade": true,
          "grade_id": "cell-a5bfa46eb38629b9",
          "locked": true,
          "points": 1,
          "schema_version": 3,
          "solution": false,
          "task": false
        },
        "id": "5SwNLsil_kRM"
      },
      "outputs": [],
      "source": [
        "# This test confirms that you have created a list named top_10_countries\n",
        "\n",
        "assert type(top_10_countries) == list\n",
        "\n",
        "# This test confirms that top_10_countries contains England, Germany, Spain, France, and Argentina\n",
        "\n",
        "assert set(['England', 'Germany', 'Spain', 'France', 'Argentina']).issubset(set(top_10_countries))\n"
      ]
    },
    {
      "cell_type": "markdown",
      "metadata": {
        "deletable": false,
        "editable": false,
        "nbgrader": {
          "cell_type": "markdown",
          "checksum": "76b3f140712b8dc910795c6ac6b9d90e",
          "grade": false,
          "grade_id": "cell-f9d5841f356a5a8a",
          "locked": true,
          "schema_version": 3,
          "solution": false,
          "task": false
        },
        "id": "hxF7ZCoc_kRM"
      },
      "source": [
        "## Part 2: Data Visualization [Suggested Time: 20 minutes]\n",
        "This part uses the same FIFA dataset, and asks you to plot data using `matplotlib`."
      ]
    },
    {
      "cell_type": "code",
      "execution_count": 20,
      "metadata": {
        "deletable": false,
        "editable": false,
        "nbgrader": {
          "cell_type": "code",
          "checksum": "205091c21e0df074b1fa7435ec334b38",
          "grade": false,
          "grade_id": "cell-0b27595ca9348a59",
          "locked": true,
          "schema_version": 3,
          "solution": false,
          "task": false
        },
        "id": "xi37c6SA_kRN"
      },
      "outputs": [],
      "source": [
        "# Run this cell\n",
        "\n",
        "import matplotlib\n",
        "import matplotlib.pyplot as plt\n",
        "\n",
        "%matplotlib inline"
      ]
    },
    {
      "cell_type": "markdown",
      "metadata": {
        "deletable": false,
        "editable": false,
        "nbgrader": {
          "cell_type": "markdown",
          "checksum": "298c2b199e8e4ab8f9e9540c4eb7f1de",
          "grade": false,
          "grade_id": "cell-112f61d031df8fca",
          "locked": true,
          "schema_version": 3,
          "solution": false,
          "task": false
        },
        "id": "zlkyIBTd_kRN"
      },
      "source": [
        "### 2.1) Create a matplotlib figure `player_count_figure` containing a labeled bar chart with the number of players from England, Germany, Spain, France, and Argentina\n",
        "\n",
        "Use the strings provided below (`bar_chart_title`, `bar_chart_count_label`, and `bar_chart_series_label`) to title and label your bar chart.\n",
        "\n",
        "Hint: These are the countries with the top 5 numbers of players, so you may be able to adapt some of the code you used for question 1.4. If you were unable to complete 1.4, use the following values:\n",
        "\n",
        "```\n",
        "Country Name  | Num Players\n",
        "============  | ===========\n",
        "England       | 1000\n",
        "Germany       | 900\n",
        "Spain         | 800\n",
        "France        | 700\n",
        "Argentina     | 600\n",
        "```"
      ]
    },
    {
      "cell_type": "markdown",
      "metadata": {
        "deletable": false,
        "editable": false,
        "nbgrader": {
          "cell_type": "markdown",
          "checksum": "67a111287e72181ca0cf457884d08b86",
          "grade": false,
          "grade_id": "cell-3b75802577579ca2",
          "locked": true,
          "schema_version": 3,
          "solution": false,
          "task": false
        },
        "id": "V8uvb7gL_kRO"
      },
      "source": [
        "**Starter Code**\n",
        "\n",
        "    player_count_figure, ax = plt.subplots(figsize=(10, 6))"
      ]
    },
    {
      "cell_type": "code",
      "execution_count": 22,
      "metadata": {
        "deletable": false,
        "nbgrader": {
          "cell_type": "code",
          "checksum": "f11df4e2eeeba43ec2328af96b36734f",
          "grade": false,
          "grade_id": "cell-248dd5aab2bb2f87",
          "locked": false,
          "schema_version": 3,
          "solution": true,
          "task": false
        },
        "colab": {
          "base_uri": "https://localhost:8080/",
          "height": 106
        },
        "id": "O2AHH7Vv_kRO",
        "outputId": "0dce9ce2-0380-42f7-bcab-1d1e75d18bd9"
      },
      "outputs": [
        {
          "output_type": "error",
          "ename": "SyntaxError",
          "evalue": "invalid syntax. Perhaps you forgot a comma? (<ipython-input-22-09ca7ee1d46f>, line 9)",
          "traceback": [
            "\u001b[0;36m  File \u001b[0;32m\"<ipython-input-22-09ca7ee1d46f>\"\u001b[0;36m, line \u001b[0;32m9\u001b[0m\n\u001b[0;31m    ax.plot(top_10_countries, Num Players)\u001b[0m\n\u001b[0m                              ^\u001b[0m\n\u001b[0;31mSyntaxError\u001b[0m\u001b[0;31m:\u001b[0m invalid syntax. Perhaps you forgot a comma?\n"
          ]
        }
      ],
      "source": [
        "bar_chart_countries = ['England', 'Germany', 'Spain', 'France', 'Argentina']\n",
        "\n",
        "bar_chart_title = '5 Countries with the Most Players'\n",
        "bar_chart_count_label = 'Number of Players'\n",
        "bar_chart_series_label = 'Nationality'\n",
        "\n",
        "# YOUR CODE HERE\n",
        "player_count_figure, ax = plt.subplots(figsize=(10, 6))\n",
        "ax.plot(top_10_countries, Num Players)\n",
        "ax.legend([\"Sample Data\"]);"
      ]
    },
    {
      "cell_type": "code",
      "execution_count": null,
      "metadata": {
        "deletable": false,
        "editable": false,
        "nbgrader": {
          "cell_type": "code",
          "checksum": "bc3f336499f7a7cbdbbc9b159e94613d",
          "grade": true,
          "grade_id": "cell-128f21e6161d6c70",
          "locked": true,
          "points": 1,
          "schema_version": 3,
          "solution": false,
          "task": false
        },
        "id": "Kod2T40B_kRO"
      },
      "outputs": [],
      "source": [
        "# This test confirms that you have created a figure named player_count_figure\n",
        "\n",
        "assert type(player_count_figure) == plt.Figure\n",
        "\n",
        "# This test confirms that the figure contains exactly one axis\n",
        "\n",
        "assert len(player_count_figure.axes) == 1\n"
      ]
    },
    {
      "cell_type": "code",
      "execution_count": null,
      "metadata": {
        "deletable": false,
        "editable": false,
        "nbgrader": {
          "cell_type": "code",
          "checksum": "77e83483f6888120e16ff7399606009f",
          "grade": true,
          "grade_id": "cell-dec8d410badba377",
          "locked": true,
          "points": 1,
          "schema_version": 3,
          "solution": false,
          "task": false
        },
        "id": "eK-PUj4X_kRP"
      },
      "outputs": [],
      "source": [
        "# These tests confirm that the figure has a title and axis labels\n",
        "\n",
        "assert player_count_figure.axes[0].get_title() != ''\n",
        "assert player_count_figure.axes[0].get_ylabel() != ''\n",
        "assert player_count_figure.axes[0].get_xlabel() != ''\n"
      ]
    },
    {
      "cell_type": "markdown",
      "metadata": {
        "deletable": false,
        "editable": false,
        "nbgrader": {
          "cell_type": "markdown",
          "checksum": "f8e98bdb4a0b091546dc3399ce37a76b",
          "grade": false,
          "grade_id": "cell-70190139727d20a2",
          "locked": true,
          "schema_version": 3,
          "solution": false,
          "task": false
        },
        "id": "4mkr1abL_kRP"
      },
      "source": [
        "### 2.2) Create a matplotlib figure `tackle_figure` containing a labeled scatter plot visualizing the relationship between `StandingTackle` (on X axis) and `SlidingTackle` (on Y axis)\n",
        "\n",
        "Use the strings provided below (`scatter_plot_title`, `standing_tackle_label`, and `sliding_tackle_label`) to title and label your scatter plot."
      ]
    },
    {
      "cell_type": "markdown",
      "metadata": {
        "deletable": false,
        "editable": false,
        "nbgrader": {
          "cell_type": "markdown",
          "checksum": "d4d11c0a1bfb7f03ddffc44685a87f44",
          "grade": false,
          "grade_id": "cell-a40b547bb6df762b",
          "locked": true,
          "schema_version": 3,
          "solution": false,
          "task": false
        },
        "id": "yyJE6j5r_kRP"
      },
      "source": [
        "**Starter Code**\n",
        "\n",
        "    tackle_figure, ax = plt.subplots(figsize=(10, 6))"
      ]
    },
    {
      "cell_type": "code",
      "execution_count": null,
      "metadata": {
        "deletable": false,
        "nbgrader": {
          "cell_type": "code",
          "checksum": "8bb54c55fcddc9287c7ba6a854d397d2",
          "grade": false,
          "grade_id": "cell-064cad4a79f53237",
          "locked": false,
          "schema_version": 3,
          "solution": true,
          "task": false
        },
        "id": "pCgpyQOV_kRP"
      },
      "outputs": [],
      "source": [
        "scatter_plot_title = 'Relationship Between Standing Tackles and Sliding Tackles'\n",
        "standing_tackle_label = 'Standing Tackles'\n",
        "sliding_tackle_label = 'Sliding Tackles'\n",
        "\n",
        "# YOUR CODE HERE\n",
        "raise NotImplementedError()"
      ]
    },
    {
      "cell_type": "code",
      "execution_count": null,
      "metadata": {
        "deletable": false,
        "editable": false,
        "nbgrader": {
          "cell_type": "code",
          "checksum": "3ad292ade273a746843bde7ed222b686",
          "grade": true,
          "grade_id": "cell-7fc1fc24025435b8",
          "locked": true,
          "points": 1,
          "schema_version": 3,
          "solution": false,
          "task": false
        },
        "id": "5mgUllOq_kRQ"
      },
      "outputs": [],
      "source": [
        "# This test confirms that you have created a figure named tackle_figure\n",
        "\n",
        "assert type(tackle_figure) == plt.Figure\n",
        "\n",
        "# This test confirms that the figure contains exactly one axis\n",
        "\n",
        "assert len(tackle_figure.axes) == 1\n"
      ]
    },
    {
      "cell_type": "markdown",
      "metadata": {
        "deletable": false,
        "editable": false,
        "nbgrader": {
          "cell_type": "markdown",
          "checksum": "725d30f1f2ac7f418801ae4cd0390115",
          "grade": false,
          "grade_id": "cell-d6d6af6c94216981",
          "locked": true,
          "schema_version": 3,
          "solution": false,
          "task": false
        },
        "id": "3yGFKhQE_kRQ"
      },
      "source": [
        "## Part 3: Exploring Statistical Data [Suggested Time: 20 minutes]\n",
        "This part does some exploratory analysis using the same FIFA dataset."
      ]
    },
    {
      "cell_type": "markdown",
      "metadata": {
        "deletable": false,
        "editable": false,
        "nbgrader": {
          "cell_type": "markdown",
          "checksum": "71a1bad69874002e5a0a59105dd4659f",
          "grade": false,
          "grade_id": "cell-1f6263e9b6ccbe48",
          "locked": true,
          "schema_version": 3,
          "solution": false,
          "task": false
        },
        "id": "J8uVMVFe_kRQ"
      },
      "source": [
        "### 3.1) Create numeric variables `mean_age` and `median_age` containing the mean and median player ages (respectively)."
      ]
    },
    {
      "cell_type": "markdown",
      "metadata": {
        "deletable": false,
        "editable": false,
        "nbgrader": {
          "cell_type": "markdown",
          "checksum": "7f51a0b5efd899bc746ebaf19d77f387",
          "grade": false,
          "grade_id": "cell-8182a47b74d8308c",
          "locked": true,
          "schema_version": 3,
          "solution": false,
          "task": false
        },
        "id": "TN5cTzsv_kRQ"
      },
      "source": [
        "**Starter Code**\n",
        "\n",
        "    mean_age =\n",
        "    median_age ="
      ]
    },
    {
      "cell_type": "code",
      "execution_count": null,
      "metadata": {
        "deletable": false,
        "nbgrader": {
          "cell_type": "code",
          "checksum": "aee75eef2da987118de986c01a96bfb6",
          "grade": false,
          "grade_id": "cell-236fe375f6c9327c",
          "locked": false,
          "schema_version": 3,
          "solution": true,
          "task": false
        },
        "id": "KTdzEwtt_kRR"
      },
      "outputs": [],
      "source": [
        "# YOUR CODE HERE\n",
        "raise NotImplementedError()"
      ]
    },
    {
      "cell_type": "code",
      "execution_count": null,
      "metadata": {
        "deletable": false,
        "editable": false,
        "nbgrader": {
          "cell_type": "code",
          "checksum": "c1c19d030e4900bdc3bbb5be4e4129ea",
          "grade": true,
          "grade_id": "cell-f71047bc869336cf",
          "locked": true,
          "points": 1,
          "schema_version": 3,
          "solution": false,
          "task": false
        },
        "id": "VngSn1SJ_kRR"
      },
      "outputs": [],
      "source": [
        "# These tests confirm that you have created numeric variables named mean_age and median_age\n",
        "\n",
        "assert isinstance(mean_age, Number)\n",
        "assert isinstance(median_age, Number)\n"
      ]
    },
    {
      "cell_type": "markdown",
      "metadata": {
        "deletable": false,
        "editable": false,
        "nbgrader": {
          "cell_type": "markdown",
          "checksum": "7d2849bb5c6c467e1f9943b62451b29a",
          "grade": false,
          "grade_id": "cell-53c00926ddd0e281",
          "locked": true,
          "schema_version": 3,
          "solution": false,
          "task": false
        },
        "id": "-GrlrVnD_kRS"
      },
      "source": [
        "### 3.2) Create numeric variables `oldest_argentine_name` and `oldest_argentine_age` containing the name and age (respectively) of the oldest player with Argentina nationality."
      ]
    },
    {
      "cell_type": "markdown",
      "metadata": {
        "deletable": false,
        "editable": false,
        "nbgrader": {
          "cell_type": "markdown",
          "checksum": "39b343f43bf2cd30af80d9768e05ae1d",
          "grade": false,
          "grade_id": "cell-8a8f465bb935cc1a",
          "locked": true,
          "schema_version": 3,
          "solution": false,
          "task": false
        },
        "id": "_b9wbmfQ_kRS"
      },
      "source": [
        "**Starter Code**\n",
        "\n",
        "    oldest_argentine_name =\n",
        "    oldest_argentine_age ="
      ]
    },
    {
      "cell_type": "code",
      "execution_count": null,
      "metadata": {
        "deletable": false,
        "nbgrader": {
          "cell_type": "code",
          "checksum": "dce1fee6a731ea4e7523d75597d79192",
          "grade": false,
          "grade_id": "cell-0c07eea0bdc0dfa4",
          "locked": false,
          "schema_version": 3,
          "solution": true,
          "task": false
        },
        "id": "RbSN-YkH_kRS"
      },
      "outputs": [],
      "source": [
        "# YOUR CODE HERE\n",
        "raise NotImplementedError()"
      ]
    },
    {
      "cell_type": "code",
      "execution_count": null,
      "metadata": {
        "deletable": false,
        "editable": false,
        "nbgrader": {
          "cell_type": "code",
          "checksum": "a5c47c67beb6766b7ee20e79609633ee",
          "grade": true,
          "grade_id": "cell-469be575f68081da",
          "locked": true,
          "points": 1,
          "schema_version": 3,
          "solution": false,
          "task": false
        },
        "id": "vORQNtEY_kRT"
      },
      "outputs": [],
      "source": [
        "# This test confirms that you have created a string variable named oldest_argentine_name\n",
        "\n",
        "assert type(oldest_argentine_name) == str\n",
        "\n",
        "# This test confirms that you have created a numeric variable named oldest_argentine_age\n",
        "\n",
        "assert isinstance(oldest_argentine_age, Number)\n"
      ]
    },
    {
      "cell_type": "markdown",
      "metadata": {
        "deletable": false,
        "editable": false,
        "nbgrader": {
          "cell_type": "markdown",
          "checksum": "e4dd527d90fc17199611fb6d879fd823",
          "grade": false,
          "grade_id": "cell-a7ce98ae6d482777",
          "locked": true,
          "schema_version": 3,
          "solution": false,
          "task": false
        },
        "id": "4hFpHAjo_kRT"
      },
      "source": [
        "## Part 4: Python Data Structures [Suggested Time: 20 min]\n",
        "\n",
        "Below is a dictionary `players` with information about soccer players. The keys are player names and the values are dictionaries containing each player's age, nationality, and a list of teams they have played for."
      ]
    },
    {
      "cell_type": "code",
      "execution_count": null,
      "metadata": {
        "deletable": false,
        "editable": false,
        "nbgrader": {
          "cell_type": "code",
          "checksum": "74845850d3bd46f86a083f97cd6a2fbb",
          "grade": false,
          "grade_id": "cell-aeec0f73b4c2686e",
          "locked": true,
          "schema_version": 3,
          "solution": false,
          "task": false
        },
        "id": "QjpTDciF_kRT"
      },
      "outputs": [],
      "source": [
        "# Run this cell\n",
        "\n",
        "players = {\n",
        "    'L. Messi': {\n",
        "        'age': 31,\n",
        "        'nationality': 'Argentina',\n",
        "        'teams': ['Barcelona']\n",
        "    },\n",
        "    'Cristiano Ronaldo': {\n",
        "        'age': 33,\n",
        "        'nationality': 'Portugal',\n",
        "        'teams': ['Juventus', 'Real Madrid', 'Manchester United']\n",
        "    },\n",
        "    'Neymar Jr': {\n",
        "        'age': 26,\n",
        "        'nationality': 'Brazil',\n",
        "        'teams': ['Santos', 'Barcelona', 'Paris Saint-German']\n",
        "    },\n",
        "    'De Gea': {\n",
        "        'age': 27,\n",
        "        'nationality': 'Spain',\n",
        "        'teams': ['Atletico Madrid', 'Manchester United']\n",
        "    },\n",
        "    'K. De Bruyne': {\n",
        "        'age': 27,\n",
        "        'nationality': 'Belgium',\n",
        "        'teams': ['Chelsea', 'Manchester City']\n",
        "    }\n",
        "}"
      ]
    },
    {
      "cell_type": "markdown",
      "metadata": {
        "deletable": false,
        "editable": false,
        "nbgrader": {
          "cell_type": "markdown",
          "checksum": "ccba4689305d3694730ed64cc3630117",
          "grade": false,
          "grade_id": "cell-c53443152551683e",
          "locked": true,
          "schema_version": 3,
          "solution": false,
          "task": false
        },
        "id": "Dhcsywq9_kRc"
      },
      "source": [
        "### 4.1) Create a list `player_names` of all the player names in dictionary `players`."
      ]
    },
    {
      "cell_type": "markdown",
      "metadata": {
        "deletable": false,
        "editable": false,
        "nbgrader": {
          "cell_type": "markdown",
          "checksum": "3b0b5c114c1d8a1dc0a7bd0614bb36e5",
          "grade": false,
          "grade_id": "cell-59b73bc797a324dd",
          "locked": true,
          "schema_version": 3,
          "solution": false,
          "task": false
        },
        "id": "UCN_6VH0_kRc"
      },
      "source": [
        "**Starter Code**\n",
        "\n",
        "    player_names ="
      ]
    },
    {
      "cell_type": "code",
      "execution_count": null,
      "metadata": {
        "deletable": false,
        "nbgrader": {
          "cell_type": "code",
          "checksum": "326610a1dd8683908588dce877596dc4",
          "grade": false,
          "grade_id": "cell-7c9289df331d0247",
          "locked": false,
          "schema_version": 3,
          "solution": true,
          "task": false
        },
        "id": "3tya8X4E_kRc"
      },
      "outputs": [],
      "source": [
        "# YOUR CODE HERE\n",
        "raise NotImplementedError()"
      ]
    },
    {
      "cell_type": "code",
      "execution_count": null,
      "metadata": {
        "deletable": false,
        "editable": false,
        "nbgrader": {
          "cell_type": "code",
          "checksum": "5fdf4e999a0fe0e2ba14b7a5bf7ffc73",
          "grade": true,
          "grade_id": "cell-5d33a8eee819cb46",
          "locked": true,
          "points": 1,
          "schema_version": 3,
          "solution": false,
          "task": false
        },
        "id": "QAfTrQad_kRd"
      },
      "outputs": [],
      "source": [
        "# This test confirms that you have created a list named player_names\n",
        "\n",
        "assert type(player_names) == list\n"
      ]
    },
    {
      "cell_type": "markdown",
      "metadata": {
        "deletable": false,
        "editable": false,
        "nbgrader": {
          "cell_type": "markdown",
          "checksum": "06528e38187a6ff39e647f0c40eef474",
          "grade": false,
          "grade_id": "cell-b9f6a94ed0a0865e",
          "locked": true,
          "schema_version": 3,
          "solution": false,
          "task": false
        },
        "id": "a3oqmBa1_kRd"
      },
      "source": [
        "### 4.2) Create a list of tuples `player_nationalities` containing each player's name along with their nationality."
      ]
    },
    {
      "cell_type": "markdown",
      "metadata": {
        "deletable": false,
        "editable": false,
        "nbgrader": {
          "cell_type": "markdown",
          "checksum": "fb799929d73836edd110fd711b310b37",
          "grade": false,
          "grade_id": "cell-b52f98d5a617ecee",
          "locked": true,
          "schema_version": 3,
          "solution": false,
          "task": false
        },
        "id": "L8rIPgC1_kRe"
      },
      "source": [
        "**Starter Code**\n",
        "\n",
        "    player_nationalities ="
      ]
    },
    {
      "cell_type": "code",
      "execution_count": null,
      "metadata": {
        "deletable": false,
        "nbgrader": {
          "cell_type": "code",
          "checksum": "e272911e07f5fd6e63264e98caf1cf4d",
          "grade": false,
          "grade_id": "cell-f14953191eda7561",
          "locked": false,
          "schema_version": 3,
          "solution": true,
          "task": false
        },
        "id": "s07j1CM5_kRe"
      },
      "outputs": [],
      "source": [
        "# YOUR CODE HERE\n",
        "raise NotImplementedError()"
      ]
    },
    {
      "cell_type": "code",
      "execution_count": null,
      "metadata": {
        "deletable": false,
        "editable": false,
        "nbgrader": {
          "cell_type": "code",
          "checksum": "91688b8f74ceef592ecc9efbb349a1eb",
          "grade": true,
          "grade_id": "cell-2e0f87d9c0c4cbb1",
          "locked": true,
          "points": 1,
          "schema_version": 3,
          "solution": false,
          "task": false
        },
        "id": "_eZ0-HVB_kRe"
      },
      "outputs": [],
      "source": [
        "# This test confirms that you have created a list named player_nationalities\n",
        "\n",
        "assert type(player_nationalities) == list\n"
      ]
    },
    {
      "cell_type": "markdown",
      "metadata": {
        "deletable": false,
        "editable": false,
        "nbgrader": {
          "cell_type": "markdown",
          "checksum": "1175810b47b5ac3d93583aa9618b0b5d",
          "grade": false,
          "grade_id": "cell-87a014f4e268c1d7",
          "locked": true,
          "schema_version": 3,
          "solution": false,
          "task": false
        },
        "id": "i-Kc3px9_kRf"
      },
      "source": [
        "### 4.3) Define a function `get_players_on_team()` that returns a list of names of all the players who have played on a given team.\n",
        "\n",
        "Your function should take two arguments:\n",
        "\n",
        "- A dictionary of player information\n",
        "- A string containing a team name (for which you are trying to find the player names)"
      ]
    },
    {
      "cell_type": "markdown",
      "metadata": {
        "deletable": false,
        "editable": false,
        "nbgrader": {
          "cell_type": "markdown",
          "checksum": "18854da940f17f98f0d4951599dceafb",
          "grade": false,
          "grade_id": "cell-9546ae6235a3a164",
          "locked": true,
          "schema_version": 3,
          "solution": false,
          "task": false
        },
        "id": "GmCeJngo_kRf"
      },
      "source": [
        "**Starter Code**\n",
        "\n",
        "    def get_players_on_team(player_dict, team_name):\n",
        "        player_list = []\n",
        "    \n",
        "        return player_list"
      ]
    },
    {
      "cell_type": "code",
      "execution_count": null,
      "metadata": {
        "deletable": false,
        "nbgrader": {
          "cell_type": "code",
          "checksum": "7b12fad4f24ec822e6d2b6255149e503",
          "grade": false,
          "grade_id": "cell-365f0240380ce928",
          "locked": false,
          "schema_version": 3,
          "solution": true,
          "task": false
        },
        "id": "dH68iuwp_kRf"
      },
      "outputs": [],
      "source": [
        "# YOUR CODE HERE\n",
        "raise NotImplementedError()"
      ]
    },
    {
      "cell_type": "code",
      "execution_count": null,
      "metadata": {
        "deletable": false,
        "editable": false,
        "nbgrader": {
          "cell_type": "code",
          "checksum": "f4984b4f9f03a8aff06898790d09f2e5",
          "grade": true,
          "grade_id": "cell-e74522c0d595f7fd",
          "locked": true,
          "points": 2,
          "schema_version": 3,
          "solution": false,
          "task": false
        },
        "id": "ZkGvnnv5_kRf"
      },
      "outputs": [],
      "source": [
        "# This test confirms that get_players_on_team() returns the right names for Manchester United\n",
        "\n",
        "manchester_united_players = ['Cristiano Ronaldo', 'De Gea']\n",
        "players_on_manchester_united = get_players_on_team(players, 'Manchester United')\n",
        "\n",
        "assert players_on_manchester_united == manchester_united_players\n"
      ]
    }
  ],
  "metadata": {
    "kernelspec": {
      "display_name": "Python 3",
      "language": "python",
      "name": "python3"
    },
    "language_info": {
      "codemirror_mode": {
        "name": "ipython",
        "version": 3
      },
      "file_extension": ".py",
      "mimetype": "text/x-python",
      "name": "python",
      "nbconvert_exporter": "python",
      "pygments_lexer": "ipython3",
      "version": "3.7.6"
    },
    "colab": {
      "provenance": [],
      "include_colab_link": true
    }
  },
  "nbformat": 4,
  "nbformat_minor": 0
}